{
  "nbformat": 4,
  "nbformat_minor": 0,
  "metadata": {
    "colab": {
      "provenance": [],
      "authorship_tag": "ABX9TyO01uotyK5lSKv+vPvP+1lH",
      "include_colab_link": true
    },
    "kernelspec": {
      "name": "python3",
      "display_name": "Python 3"
    },
    "language_info": {
      "name": "python"
    }
  },
  "cells": [
    {
      "cell_type": "markdown",
      "metadata": {
        "id": "view-in-github",
        "colab_type": "text"
      },
      "source": [
        "<a href=\"https://colab.research.google.com/github/1Kote/reconhecimento_facial_IA/blob/daniel/reconhecimento_facial_EigenFaces.ipynb\" target=\"_parent\"><img src=\"https://colab.research.google.com/assets/colab-badge.svg\" alt=\"Open In Colab\"/></a>"
      ]
    },
    {
      "cell_type": "markdown",
      "source": [
        "Reconhecimento facial - Estudo e Trabalho do Dimmy"
      ],
      "metadata": {
        "id": "FDSSqBTKI5DX"
      }
    },
    {
      "cell_type": "markdown",
      "source": [
        "Bibliotecas para serem importadas"
      ],
      "metadata": {
        "id": "BOwYvj0AI86x"
      }
    },
    {
      "cell_type": "code",
      "source": [
        "import cv2, zipfile, os\n",
        "import numpy as np\n",
        "from PIL import Image\n",
        "from google.colab.patches import cv2_imshow"
      ],
      "metadata": {
        "id": "tFM-P1x-I4OF"
      },
      "execution_count": null,
      "outputs": []
    },
    {
      "cell_type": "code",
      "execution_count": null,
      "metadata": {
        "id": "gb1FTF1LIxfN"
      },
      "outputs": [],
      "source": [
        "#extrair o zip com o dataset\n",
        "path = '/content/yalefaces.zip'\n",
        "zip_object = zipfile.ZipFile(file = path, mode='r')\n",
        "zip_object.extractall('./')\n",
        "zip_object.close"
      ]
    },
    {
      "cell_type": "code",
      "source": [
        "print(os.listdir('/content/yalefaces/train'))"
      ],
      "metadata": {
        "id": "edtwKEgQJP6q"
      },
      "execution_count": null,
      "outputs": []
    },
    {
      "cell_type": "code",
      "source": [
        "test_image = '/content/yalefaces/train/subject01.leftlight.gif'\n",
        "image = Image.open(test_image).convert('L')\n",
        "type(image)"
      ],
      "metadata": {
        "id": "1989I5QEJRz7"
      },
      "execution_count": null,
      "outputs": []
    },
    {
      "cell_type": "code",
      "source": [
        "image"
      ],
      "metadata": {
        "id": "GJAQWRmdJWkD"
      },
      "execution_count": null,
      "outputs": []
    },
    {
      "cell_type": "markdown",
      "source": [
        "conversão de PIL para numpy"
      ],
      "metadata": {
        "id": "Cq-tH42-JYzD"
      }
    },
    {
      "cell_type": "code",
      "source": [
        "image_np = np.array(image, \"uint8\")\n",
        "cv2_imshow(image_np)\n",
        "print(image_np.shape)"
      ],
      "metadata": {
        "id": "f2JIWPUiJZkb"
      },
      "execution_count": null,
      "outputs": []
    },
    {
      "cell_type": "markdown",
      "source": [
        "Numero de pixels"
      ],
      "metadata": {
        "id": "kMytTbNwJkJT"
      }
    },
    {
      "cell_type": "code",
      "source": [
        "243 * 320"
      ],
      "metadata": {
        "id": "Bjk5bvbaJluG"
      },
      "execution_count": null,
      "outputs": []
    }
  ]
}